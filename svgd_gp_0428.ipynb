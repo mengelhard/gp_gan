version https://git-lfs.github.com/spec/v1
oid sha256:cc7f27b5f2478a8fabbefa76bdde80f371edb8abb52e688c664930ad8069fa73
size 438403
