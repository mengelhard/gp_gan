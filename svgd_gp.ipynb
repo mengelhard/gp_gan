version https://git-lfs.github.com/spec/v1
oid sha256:81336acf132b68aa5d7b36ec9868afc75e36c997abeeb805d6c40f66d95ba94c
size 888553
