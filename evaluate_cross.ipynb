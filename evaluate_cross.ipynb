version https://git-lfs.github.com/spec/v1
oid sha256:94fd26be7dccc6da74040ac8f6f99b5543e9645d6b469589c1d2946c33628953
size 262762
