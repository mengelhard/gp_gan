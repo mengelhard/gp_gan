version https://git-lfs.github.com/spec/v1
oid sha256:91e9b20c095cf3dadc400603c9b75439417f7b68ae26bdfcae3e6c6b6f4cb72e
size 546390
